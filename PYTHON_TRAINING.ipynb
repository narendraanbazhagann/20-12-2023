{
  "cells": [
    {
      "cell_type": "markdown",
      "metadata": {
        "id": "view-in-github",
        "colab_type": "text"
      },
      "source": [
        "<a href=\"https://colab.research.google.com/github/narendraanbazhagann/20-12-2023/blob/main/PYTHON_TRAINING.ipynb\" target=\"_parent\"><img src=\"https://colab.research.google.com/assets/colab-badge.svg\" alt=\"Open In Colab\"/></a>"
      ]
    },
    {
      "cell_type": "markdown",
      "source": [
        "PYTHON TRAINING\n"
      ],
      "metadata": {
        "id": "PorICeVYf34k"
      }
    },
    {
      "cell_type": "markdown",
      "source": [
        "1.  Create a list of first 10 natural numbers. And write a program to find the lists of odd numbers and even numbers separately. And, to find the square of its odd and even lists."
      ],
      "metadata": {
        "id": "cXNQz4XfhdZ7"
      }
    },
    {
      "cell_type": "code",
      "source": [
        "a=[]\n",
        "n=int(input(\"Enter the number of elements:\"))\n",
        "for i in range(1,n+1):\n",
        "    b=int(input(\"Enter the number\"))\n",
        "    a.append(b)\n",
        "print(a)\n",
        "odd=[]\n",
        "even=[]\n",
        "for j in a:\n",
        "    if(j%2==0):\n",
        "        even.append(j)\n",
        "    else:\n",
        "        odd.append(j)\n",
        "print(\"odd numbers\",odd)\n",
        "print(\"Even list:\",even)\n"
      ],
      "metadata": {
        "id": "Uyd9Msd1f6LK",
        "outputId": "84275bb0-59e0-4f42-9465-91b8802dfc0b",
        "colab": {
          "base_uri": "https://localhost:8080/"
        }
      },
      "execution_count": 7,
      "outputs": [
        {
          "output_type": "stream",
          "name": "stdout",
          "text": [
            "Enter the number of elements:2\n",
            "Enter the number1\n",
            "Enter the number2\n",
            "[1, 2]\n",
            "odd numbers [1]\n",
            "Even list: [2]\n"
          ]
        }
      ]
    },
    {
      "cell_type": "markdown",
      "source": [
        "2.  Write a program to find the largest and smallest number in the list without using the in-built function."
      ],
      "metadata": {
        "id": "BFnyVbemhysS"
      }
    },
    {
      "cell_type": "code",
      "source": [
        "def find_max_min(n):\n",
        "  largest = n[0]\n",
        "  smallest = n[0]\n",
        "  for num in n:\n",
        "        if num > largest:\n",
        "            largest = num\n",
        "        elif num < smallest:\n",
        "            smallest = num\n",
        "        return largest, smallest\n",
        "n= [12, 45, 78, 23, 56, 89, 5]\n",
        "largest, smallest = find_max_min(n)\n",
        "print(\"Largest number:\", largest)\n",
        "print(\"Smallest number:\", smallest)\n"
      ],
      "metadata": {
        "id": "ICT3AQXQh1vI",
        "outputId": "779b69ea-ada0-428b-bdb4-82f21f5e9469",
        "colab": {
          "base_uri": "https://localhost:8080/"
        }
      },
      "execution_count": 6,
      "outputs": [
        {
          "output_type": "stream",
          "name": "stdout",
          "text": [
            "Largest number: 12\n",
            "Smallest number: 12\n"
          ]
        }
      ]
    },
    {
      "cell_type": "markdown",
      "source": [
        "3.Write a program to find the second largest and second smallest number in the list without using the in-built function."
      ],
      "metadata": {
        "id": "c4AL49uZlta8"
      }
    },
    {
      "cell_type": "code",
      "source": [
        "def find_second_largest_smallest(numbers):\n",
        "    if len(numbers) < 2:\n",
        "        return \"List must contain at least two elements\"\n",
        "    numbers.sort()\n",
        "    return numbers[1], numbers[-2]\n",
        "numbers = [5, 2, 8, 1, 9, 3, 7, 4, 6]\n",
        "second_smallest, second_largest = find_second_largest_smallest(numbers)\n",
        "print(\"Second smallest number:\", second_smallest)\n",
        "print(\"Second largest number:\", second_largest)\n"
      ],
      "metadata": {
        "colab": {
          "base_uri": "https://localhost:8080/"
        },
        "id": "3iAYuBfNmXe0",
        "outputId": "d2723828-1c50-4512-afe3-fedf2a388d8b"
      },
      "execution_count": 12,
      "outputs": [
        {
          "output_type": "stream",
          "name": "stdout",
          "text": [
            "Second smallest number: 2\n",
            "Second largest number: 8\n"
          ]
        }
      ]
    },
    {
      "cell_type": "markdown",
      "source": [
        "4.Write a program to sort elements stored in the list as Ascending order and Descending order without using the in-built function (sort ()).   "
      ],
      "metadata": {
        "id": "OtZhODBjnsdB"
      }
    },
    {
      "cell_type": "code",
      "source": [
        "def ascend(n):\n",
        "    for i in range(len(n)):\n",
        "        for j in range(i + 1, len(n)):\n",
        "            if n[i] > n[j]:\n",
        "                n[i], n[j] = n[j], n[i]\n",
        "    return n\n",
        "def descend(n):\n",
        "    for i in range(len(n)):\n",
        "        for j in range(i + 1, len(n)):\n",
        "            if n[i] < n[j]:\n",
        "                n[i], n[j] = n[j], n[i]\n",
        "    return numbers\n",
        "n = [5, 2, 8, 1, 9, 3, 7, 4, 6]\n",
        "ascending = ascend(n.copy())\n",
        "print(\"Ascending order:\", ascending)\n",
        "descending = descend(n.copy())\n",
        "print(\"Descending order:\", descending)\n"
      ],
      "metadata": {
        "colab": {
          "base_uri": "https://localhost:8080/"
        },
        "id": "bqwQHRean8hv",
        "outputId": "6e652802-9333-44f3-b341-7401caf33121"
      },
      "execution_count": 14,
      "outputs": [
        {
          "output_type": "stream",
          "name": "stdout",
          "text": [
            "Ascending order: [1, 2, 3, 4, 5, 6, 7, 8, 9]\n",
            "Descending order: [5, 2, 8, 1, 9, 3, 7, 4, 6]\n"
          ]
        }
      ]
    },
    {
      "cell_type": "markdown",
      "source": [
        "5.Find the index position of the specific number stored in the list."
      ],
      "metadata": {
        "id": "oP0UkfNxoak_"
      }
    },
    {
      "cell_type": "code",
      "source": [
        "a=[]\n",
        "n=int(input(\"Enter the number of elements:\"))\n",
        "for i in range(1,n+1):\n",
        "    b=int(input(\"Enter the number\"))\n",
        "    a.append(b)\n",
        "print(a)\n",
        "number=int(input(\"enter the number\"))\n",
        "index_position = a.index(number)\n",
        "print(\"Index position of\", number, \"is:\", index_position)"
      ],
      "metadata": {
        "colab": {
          "base_uri": "https://localhost:8080/"
        },
        "id": "Sk2TfdYeohxH",
        "outputId": "22b0be7c-acb0-45b2-9295-c009022558e2"
      },
      "execution_count": 16,
      "outputs": [
        {
          "output_type": "stream",
          "name": "stdout",
          "text": [
            "Enter the number of elements:6\n",
            "Enter the number34\n",
            "Enter the number43\n",
            "Enter the number23\n",
            "Enter the number53\n",
            "Enter the number34\n",
            "Enter the number34\n",
            "[34, 43, 23, 53, 34, 34]\n",
            "enter the number43\n",
            "Index position of 43 is: 1\n"
          ]
        }
      ]
    },
    {
      "cell_type": "markdown",
      "source": [
        "6. Find most frequent element present in a list."
      ],
      "metadata": {
        "id": "j_qSO0LAqS00"
      }
    },
    {
      "cell_type": "code",
      "source": [
        "def mt(lst):\n",
        "    return max(set(lst), key=lst.count)\n",
        "my_list = [1, 2, 3, 4, 2, 2, 3, 3, 3, 4, 4, 4, 4]\n",
        "print(\"Most frequent element:\", mt(my_list))"
      ],
      "metadata": {
        "colab": {
          "base_uri": "https://localhost:8080/"
        },
        "id": "3ttYW7LQqYBj",
        "outputId": "da3a4813-082b-4ff4-a961-906cc4eb5e97"
      },
      "execution_count": 17,
      "outputs": [
        {
          "output_type": "stream",
          "name": "stdout",
          "text": [
            "Most frequent element: 4\n"
          ]
        }
      ]
    }
  ],
  "metadata": {
    "colab": {
      "provenance": [],
      "include_colab_link": true
    },
    "kernelspec": {
      "display_name": "Python 3",
      "name": "python3"
    }
  },
  "nbformat": 4,
  "nbformat_minor": 0
}